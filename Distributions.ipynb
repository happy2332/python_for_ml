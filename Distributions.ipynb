{
 "cells": [
  {
   "cell_type": "markdown",
   "metadata": {},
   "source": [
    "# Probability Distributions"
   ]
  },
  {
   "cell_type": "markdown",
   "metadata": {},
   "source": [
    "During the course, we will be dealing with a lot of probability distributions. So it is a good idea to get familiar with these distributions. We will mainly be dealing with two probability distributions : Bernoulli Distribution (for discrete variables), and Normal Distribution (for continuous variables).\n",
    "## Bernoulli Distribution\n",
    "Consider a binary random variable $X$ i.e. it can have two possible outcomes. Let the two outcomes be 0 and 1. An example of such random variable is the outcome of a coin toss. The distrbution is parameterized by a single parameter $\\phi$,  whose value can be between 0 and 1 (inclusive). Intuitively, $\\phi$ tells the probability of $X=1$ i.e.\n",
    "$$P(X=1)=\\phi$$\n",
    "and so\n",
    "$$P(X=0)=1-\\phi$$\n",
    "<hr>\n",
    "Here are some questions for you to understand this distribution in more detail :\n",
    "1. Find the expected value of $X$ in terms of $\\phi$.\n",
    "2. Find the variance of $X$ in terms of $\\phi$.\n",
    "3. Now suppose we want to sample a point from a Bernoulli distribution with a given $\\phi$. Then we can do that using numpy's binomial function. The code below shows how to sample a point for $\\phi=0.4$."
   ]
  },
  {
   "cell_type": "code",
   "execution_count": 2,
   "metadata": {},
   "outputs": [
    {
     "name": "stdout",
     "output_type": "stream",
     "text": [
      "0\n"
     ]
    }
   ],
   "source": [
    "import numpy as np\n",
    "phi = 0.4\n",
    "a = np.random.binomial(n=1, p=phi)\n",
    "print(a)"
   ]
  },
  {
   "cell_type": "code",
   "execution_count": null,
   "metadata": {
    "collapsed": true
   },
   "outputs": [],
   "source": []
  }
 ],
 "metadata": {
  "kernelspec": {
   "display_name": "Python 3",
   "language": "python",
   "name": "python3"
  },
  "language_info": {
   "codemirror_mode": {
    "name": "ipython",
    "version": 3
   },
   "file_extension": ".py",
   "mimetype": "text/x-python",
   "name": "python",
   "nbconvert_exporter": "python",
   "pygments_lexer": "ipython3",
   "version": "3.6.2"
  }
 },
 "nbformat": 4,
 "nbformat_minor": 2
}
