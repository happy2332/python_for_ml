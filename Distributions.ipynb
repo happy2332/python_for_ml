{
 "cells": [
  {
   "cell_type": "markdown",
   "metadata": {},
   "source": [
    "# Probability Distributions"
   ]
  },
  {
   "cell_type": "markdown",
   "metadata": {},
   "source": [
    "During the course, we will be dealing with a lot of probability distributions. So it is a good idea to get familiar with these distributions. We will mainly be dealing with two probability distributions : Bernoulli Distribution (for discrete variables), and Normal Distribution (for continuous variables).\n",
    "## Bernoulli Distribution\n",
    "Consider a binary random variable $X$ i.e. it can have two possible outcomes. Let the two outcomes be 0 and 1. An example of such random variable is the outcome of a coin toss. The distrbution is parameterized by a single parameter $\\phi$,  whose value can be between 0 and 1 (inclusive). Intuitively, $\\phi$ tells the probability of $X=1$\n",
    "$$P(X=1)=\\phi$$\n",
    "and so\n",
    "$$P(X=0)=1-\\phi$$\n",
    "<hr>\n",
    "Here are some questions for you to understand this distribution in more detail :\n",
    "\n",
    "Q.1. Find the expected value of $X$ in terms of $\\phi$.\n",
    "\n",
    "Q.2. Find the variance of $X$ in terms of $\\phi$.\n",
    "\n",
    "Q.3. Now suppose we want to sample a point from a Bernoulli distribution with a given $\\phi$. Then we can do that using numpy's binomial function. The code below shows how to sample a point for $\\phi=0.4$. Run this code for $\\phi=0.7$"
   ]
  },
  {
   "cell_type": "code",
   "execution_count": null,
   "metadata": {},
   "outputs": [],
   "source": [
    "import numpy as np\n",
    "phi = 0.4\n",
    "x = np.random.binomial(n=1, p=phi)\n",
    "print(x)"
   ]
  },
  {
   "cell_type": "markdown",
   "metadata": {},
   "source": [
    "Q.4. In above question, we sampled a single point, but that would be either 0 or 1, and that would not give us a chance to verify whether this point is indeed sampled with the given $\\phi$. For that, we need to sample many points, and then we would be able to verify. So now in the following code, we sample 100 points with $\\phi=0.4$, and compute their average. You should run this code for $\\phi=0.7$, and compute the average of the sampled points. Is the average close to 0.7 ? What happens when you increase the number of samples ?"
   ]
  },
  {
   "cell_type": "code",
   "execution_count": null,
   "metadata": {},
   "outputs": [],
   "source": [
    "import numpy as np\n",
    "phi = 0.4\n",
    "num_samples = 100\n",
    "x = np.random.binomial(n=1, p=phi, size=(num_samples,1))\n",
    "avgx = np.mean(x)\n",
    "print(avgx)"
   ]
  },
  {
   "cell_type": "markdown",
   "metadata": {},
   "source": [
    "Q.5. In the above code, we see that every run gives different answer i.e. sample mean is different for every run. As we increase the number of samples, sample means are different but are closer to each other. We want to find distribution of these sample means. So now, we perform the above task 1000 times, and plot the sample mean in each case. To plot those, we will use a histogram."
   ]
  },
  {
   "cell_type": "code",
   "execution_count": null,
   "metadata": {},
   "outputs": [],
   "source": [
    "import matplotlib.pyplot as plt\n",
    "phi = 0.4\n",
    "num_samples = 100\n",
    "num_iter = 1000\n",
    "sample_means = []\n",
    "for i in range(num_iter):\n",
    "    x = np.random.binomial(n=1, p=phi, size=(num_samples,1))\n",
    "    avgx = np.mean(x)\n",
    "    sample_means.append(avgx)\n",
    "plt.hist(sample_means, bins='auto')  # arguments are passed to np.histogram\n",
    "plt.title(\"Histogram of sample means\")\n",
    "plt.show()"
   ]
  },
  {
   "cell_type": "markdown",
   "metadata": {},
   "source": [
    "As we see in the above output, the distribution resembles normal distribution with mean = 0.4. This phenomeanon is called the __[Central Limit Theorem](https://en.wikipedia.org/wiki/Central_limit_theorem)__. Now run above code for $\\phi=0.7$. What happens when you increase the number of samples and number of iterations?"
   ]
  },
  {
   "cell_type": "code",
   "execution_count": null,
   "metadata": {
    "collapsed": true
   },
   "outputs": [],
   "source": []
  }
 ],
 "metadata": {
  "kernelspec": {
   "display_name": "Python 3",
   "language": "python",
   "name": "python3"
  },
  "language_info": {
   "codemirror_mode": {
    "name": "ipython",
    "version": 3
   },
   "file_extension": ".py",
   "mimetype": "text/x-python",
   "name": "python",
   "nbconvert_exporter": "python",
   "pygments_lexer": "ipython3",
   "version": "3.6.2"
  }
 },
 "nbformat": 4,
 "nbformat_minor": 2
}
